{
  "nbformat": 4,
  "nbformat_minor": 0,
  "metadata": {
    "colab": {
      "provenance": [],
      "authorship_tag": "ABX9TyNu+hefhpsKv4BppshXvhK8",
      "include_colab_link": true
    },
    "kernelspec": {
      "name": "python3",
      "display_name": "Python 3"
    },
    "language_info": {
      "name": "python"
    }
  },
  "cells": [
    {
      "cell_type": "markdown",
      "metadata": {
        "id": "view-in-github",
        "colab_type": "text"
      },
      "source": [
        "<a href=\"https://colab.research.google.com/github/hardik4555/business-case-Deep-neural-networks-/blob/main/business_case.ipynb\" target=\"_parent\"><img src=\"https://colab.research.google.com/assets/colab-badge.svg\" alt=\"Open In Colab\"/></a>"
      ]
    },
    {
      "cell_type": "markdown",
      "source": [
        "**Import data**"
      ],
      "metadata": {
        "id": "MkLYlIL4_K_F"
      }
    },
    {
      "cell_type": "code",
      "source": [
        "import numpy as np\n",
        "import pandas as pd\n",
        "from sklearn import preprocessing #using sklearn to standardize the inputs\n",
        "from google.colab import files\n",
        "uploaded=files.upload()\n"
      ],
      "metadata": {
        "colab": {
          "base_uri": "https://localhost:8080/",
          "height": 73
        },
        "id": "sR878hYH_QQV",
        "outputId": "dac04c5d-9e63-4fb6-b907-6eb57e64cdf6"
      },
      "execution_count": null,
      "outputs": [
        {
          "output_type": "display_data",
          "data": {
            "text/plain": [
              "<IPython.core.display.HTML object>"
            ],
            "text/html": [
              "\n",
              "     <input type=\"file\" id=\"files-a76823e4-1c81-4eca-8732-41b8628f8df9\" name=\"files[]\" multiple disabled\n",
              "        style=\"border:none\" />\n",
              "     <output id=\"result-a76823e4-1c81-4eca-8732-41b8628f8df9\">\n",
              "      Upload widget is only available when the cell has been executed in the\n",
              "      current browser session. Please rerun this cell to enable.\n",
              "      </output>\n",
              "      <script>// Copyright 2017 Google LLC\n",
              "//\n",
              "// Licensed under the Apache License, Version 2.0 (the \"License\");\n",
              "// you may not use this file except in compliance with the License.\n",
              "// You may obtain a copy of the License at\n",
              "//\n",
              "//      http://www.apache.org/licenses/LICENSE-2.0\n",
              "//\n",
              "// Unless required by applicable law or agreed to in writing, software\n",
              "// distributed under the License is distributed on an \"AS IS\" BASIS,\n",
              "// WITHOUT WARRANTIES OR CONDITIONS OF ANY KIND, either express or implied.\n",
              "// See the License for the specific language governing permissions and\n",
              "// limitations under the License.\n",
              "\n",
              "/**\n",
              " * @fileoverview Helpers for google.colab Python module.\n",
              " */\n",
              "(function(scope) {\n",
              "function span(text, styleAttributes = {}) {\n",
              "  const element = document.createElement('span');\n",
              "  element.textContent = text;\n",
              "  for (const key of Object.keys(styleAttributes)) {\n",
              "    element.style[key] = styleAttributes[key];\n",
              "  }\n",
              "  return element;\n",
              "}\n",
              "\n",
              "// Max number of bytes which will be uploaded at a time.\n",
              "const MAX_PAYLOAD_SIZE = 100 * 1024;\n",
              "\n",
              "function _uploadFiles(inputId, outputId) {\n",
              "  const steps = uploadFilesStep(inputId, outputId);\n",
              "  const outputElement = document.getElementById(outputId);\n",
              "  // Cache steps on the outputElement to make it available for the next call\n",
              "  // to uploadFilesContinue from Python.\n",
              "  outputElement.steps = steps;\n",
              "\n",
              "  return _uploadFilesContinue(outputId);\n",
              "}\n",
              "\n",
              "// This is roughly an async generator (not supported in the browser yet),\n",
              "// where there are multiple asynchronous steps and the Python side is going\n",
              "// to poll for completion of each step.\n",
              "// This uses a Promise to block the python side on completion of each step,\n",
              "// then passes the result of the previous step as the input to the next step.\n",
              "function _uploadFilesContinue(outputId) {\n",
              "  const outputElement = document.getElementById(outputId);\n",
              "  const steps = outputElement.steps;\n",
              "\n",
              "  const next = steps.next(outputElement.lastPromiseValue);\n",
              "  return Promise.resolve(next.value.promise).then((value) => {\n",
              "    // Cache the last promise value to make it available to the next\n",
              "    // step of the generator.\n",
              "    outputElement.lastPromiseValue = value;\n",
              "    return next.value.response;\n",
              "  });\n",
              "}\n",
              "\n",
              "/**\n",
              " * Generator function which is called between each async step of the upload\n",
              " * process.\n",
              " * @param {string} inputId Element ID of the input file picker element.\n",
              " * @param {string} outputId Element ID of the output display.\n",
              " * @return {!Iterable<!Object>} Iterable of next steps.\n",
              " */\n",
              "function* uploadFilesStep(inputId, outputId) {\n",
              "  const inputElement = document.getElementById(inputId);\n",
              "  inputElement.disabled = false;\n",
              "\n",
              "  const outputElement = document.getElementById(outputId);\n",
              "  outputElement.innerHTML = '';\n",
              "\n",
              "  const pickedPromise = new Promise((resolve) => {\n",
              "    inputElement.addEventListener('change', (e) => {\n",
              "      resolve(e.target.files);\n",
              "    });\n",
              "  });\n",
              "\n",
              "  const cancel = document.createElement('button');\n",
              "  inputElement.parentElement.appendChild(cancel);\n",
              "  cancel.textContent = 'Cancel upload';\n",
              "  const cancelPromise = new Promise((resolve) => {\n",
              "    cancel.onclick = () => {\n",
              "      resolve(null);\n",
              "    };\n",
              "  });\n",
              "\n",
              "  // Wait for the user to pick the files.\n",
              "  const files = yield {\n",
              "    promise: Promise.race([pickedPromise, cancelPromise]),\n",
              "    response: {\n",
              "      action: 'starting',\n",
              "    }\n",
              "  };\n",
              "\n",
              "  cancel.remove();\n",
              "\n",
              "  // Disable the input element since further picks are not allowed.\n",
              "  inputElement.disabled = true;\n",
              "\n",
              "  if (!files) {\n",
              "    return {\n",
              "      response: {\n",
              "        action: 'complete',\n",
              "      }\n",
              "    };\n",
              "  }\n",
              "\n",
              "  for (const file of files) {\n",
              "    const li = document.createElement('li');\n",
              "    li.append(span(file.name, {fontWeight: 'bold'}));\n",
              "    li.append(span(\n",
              "        `(${file.type || 'n/a'}) - ${file.size} bytes, ` +\n",
              "        `last modified: ${\n",
              "            file.lastModifiedDate ? file.lastModifiedDate.toLocaleDateString() :\n",
              "                                    'n/a'} - `));\n",
              "    const percent = span('0% done');\n",
              "    li.appendChild(percent);\n",
              "\n",
              "    outputElement.appendChild(li);\n",
              "\n",
              "    const fileDataPromise = new Promise((resolve) => {\n",
              "      const reader = new FileReader();\n",
              "      reader.onload = (e) => {\n",
              "        resolve(e.target.result);\n",
              "      };\n",
              "      reader.readAsArrayBuffer(file);\n",
              "    });\n",
              "    // Wait for the data to be ready.\n",
              "    let fileData = yield {\n",
              "      promise: fileDataPromise,\n",
              "      response: {\n",
              "        action: 'continue',\n",
              "      }\n",
              "    };\n",
              "\n",
              "    // Use a chunked sending to avoid message size limits. See b/62115660.\n",
              "    let position = 0;\n",
              "    do {\n",
              "      const length = Math.min(fileData.byteLength - position, MAX_PAYLOAD_SIZE);\n",
              "      const chunk = new Uint8Array(fileData, position, length);\n",
              "      position += length;\n",
              "\n",
              "      const base64 = btoa(String.fromCharCode.apply(null, chunk));\n",
              "      yield {\n",
              "        response: {\n",
              "          action: 'append',\n",
              "          file: file.name,\n",
              "          data: base64,\n",
              "        },\n",
              "      };\n",
              "\n",
              "      let percentDone = fileData.byteLength === 0 ?\n",
              "          100 :\n",
              "          Math.round((position / fileData.byteLength) * 100);\n",
              "      percent.textContent = `${percentDone}% done`;\n",
              "\n",
              "    } while (position < fileData.byteLength);\n",
              "  }\n",
              "\n",
              "  // All done.\n",
              "  yield {\n",
              "    response: {\n",
              "      action: 'complete',\n",
              "    }\n",
              "  };\n",
              "}\n",
              "\n",
              "scope.google = scope.google || {};\n",
              "scope.google.colab = scope.google.colab || {};\n",
              "scope.google.colab._files = {\n",
              "  _uploadFiles,\n",
              "  _uploadFilesContinue,\n",
              "};\n",
              "})(self);\n",
              "</script> "
            ]
          },
          "metadata": {}
        },
        {
          "output_type": "stream",
          "name": "stdout",
          "text": [
            "Saving Audiobooks_data.csv to Audiobooks_data (2).csv\n"
          ]
        }
      ]
    },
    {
      "cell_type": "code",
      "source": [
        "raw_csv_data=np.loadtxt('Audiobooks_data.csv', delimiter=',')\n",
        "unscaled_inputs_all=raw_csv_data[:,1:-1]\n",
        "targets_all=raw_csv_data[:,-1]\n",
        "#we will keep as many 0s as their are 1s"
      ],
      "metadata": {
        "id": "cn1TLKsMAWCs"
      },
      "execution_count": null,
      "outputs": []
    },
    {
      "cell_type": "markdown",
      "source": [
        "**Balance the dataset**"
      ],
      "metadata": {
        "id": "8ILMrpsXBrs4"
      }
    },
    {
      "cell_type": "code",
      "source": [
        "num_one_targets= int(np.sum(targets_all))\n",
        "zero_targets_counter=0\n",
        "indices_to_remove=[]\n",
        "\n",
        "for i in range(targets_all.shape[0]):\n",
        "  if targets_all[i]==0:\n",
        "    zero_targets_counter+=1\n",
        "    if zero_targets_counter>num_one_targets:\n",
        "      indices_to_remove.append(i)\n",
        "\n",
        "unscaled_inputs_equal_priors= np.delete(unscaled_inputs_all, indices_to_remove, axis=0)\n",
        "targets_equal_priors= np.delete(targets_all, indices_to_remove, axis=0)"
      ],
      "metadata": {
        "id": "21oQ-ZThB1Cl"
      },
      "execution_count": null,
      "outputs": []
    },
    {
      "cell_type": "markdown",
      "source": [
        "**Standardize the inputs**"
      ],
      "metadata": {
        "id": "TQ2zvk9UIEOs"
      }
    },
    {
      "cell_type": "code",
      "source": [
        "scaled_inputs= preprocessing.scale(unscaled_inputs_equal_priors)"
      ],
      "metadata": {
        "id": "0Wv_JafJHNE4"
      },
      "execution_count": null,
      "outputs": []
    },
    {
      "cell_type": "markdown",
      "source": [
        "**Shuffle the data**"
      ],
      "metadata": {
        "id": "tnZ4h7GjIMxX"
      }
    },
    {
      "cell_type": "code",
      "source": [
        "#we must shuffle the data\n",
        "shuffled_indices= np.arange(scaled_inputs.shape[0])\n",
        "# print(shuffled_indices)\n",
        "np.random.shuffle(shuffled_indices)\n",
        "# print(shuffled_indices)\n",
        "shuffled_inputs= scaled_inputs[shuffled_indices]\n",
        "shuffled_targets= targets_equal_priors[shuffled_indices]"
      ],
      "metadata": {
        "id": "Onvs6WQEHv5Y"
      },
      "execution_count": null,
      "outputs": []
    },
    {
      "cell_type": "markdown",
      "source": [
        "**Split the data into train, validation, test**"
      ],
      "metadata": {
        "id": "J9mxu0g-KjqV"
      }
    },
    {
      "cell_type": "code",
      "source": [
        "samples_count=shuffled_inputs.shape[0]\n",
        "#using 80-10-10 split\n",
        "train_samples_count=int(0.8*samples_count)\n",
        "validation_samples_count=int(0.1*samples_count)\n",
        "test_count=int(0.1*samples_count)\n",
        "\n",
        "train_inputs= shuffled_inputs[:train_samples_count]\n",
        "train_targets= shuffled_targets[:train_samples_count]\n",
        "\n",
        "validation_inputs=shuffled_inputs[train_samples_count:train_samples_count+validation_samples_count]\n",
        "validation_targets=shuffled_targets[train_samples_count: train_samples_count+ validation_samples_count]\n",
        "\n",
        "test_inputs=shuffled_inputs[train_samples_count+validation_samples_count:-1]\n",
        "test_targets=shuffled_targets[train_samples_count+validation_samples_count:-1]"
      ],
      "metadata": {
        "id": "eZ00Cp6oKqF3"
      },
      "execution_count": null,
      "outputs": []
    },
    {
      "cell_type": "markdown",
      "source": [
        "**Save the three datasets in *.npz**"
      ],
      "metadata": {
        "id": "NabWbanTM1bY"
      }
    },
    {
      "cell_type": "code",
      "source": [
        "np.savez('Audiobooks_data_train', inputs=train_inputs, targets=train_targets)\n",
        "np.savez('Audiobooks_data_validation', inputs=validation_inputs, targets=validation_targets)\n",
        "np.savez('Audiobooks_data_test', inputs=test_inputs, targets=test_targets)"
      ],
      "metadata": {
        "id": "yG4rosieM55S"
      },
      "execution_count": null,
      "outputs": []
    },
    {
      "cell_type": "markdown",
      "source": [
        "**Creating the machine learning algorithm**"
      ],
      "metadata": {
        "id": "yR-TOY3oaGfS"
      }
    },
    {
      "cell_type": "code",
      "source": [
        "npz= np.load('Audiobooks_data_train.npz')\n",
        "train_inputs=npz['inputs'].astype(float)\n",
        "train_targets=npz['targets'].astype(int)\n",
        "\n",
        "npz=np.load('Audiobooks_data_validation.npz')\n",
        "validation_inputs=npz['inputs'].astype(float)\n",
        "validation_targets=npz['targets'].astype(int)\n",
        "\n",
        "npz=np.load('Audiobooks_data_test.npz')\n",
        "test_inputs=npz['inputs'].astype(float)\n",
        "test_targets=npz['targets'].astype(int)"
      ],
      "metadata": {
        "id": "24L5hwEWNvNv"
      },
      "execution_count": null,
      "outputs": []
    },
    {
      "cell_type": "code",
      "source": [
        "train_targets.shape,validation_targets.shape"
      ],
      "metadata": {
        "colab": {
          "base_uri": "https://localhost:8080/"
        },
        "id": "uHBKcwLziAEs",
        "outputId": "8d6b7245-65d5-42ec-9546-0defe3df0947"
      },
      "execution_count": null,
      "outputs": [
        {
          "output_type": "execute_result",
          "data": {
            "text/plain": [
              "((3579,), (447,))"
            ]
          },
          "metadata": {},
          "execution_count": 50
        }
      ]
    },
    {
      "cell_type": "markdown",
      "source": [
        "**Model**"
      ],
      "metadata": {
        "id": "EyuMWtx7eUJl"
      }
    },
    {
      "cell_type": "code",
      "source": [
        "import tensorflow as tf\n",
        "\n",
        "input_size=10\n",
        "output_size=2\n",
        "hidden_layer_size=100\n",
        "\n",
        "model=tf.keras.Sequential([\n",
        "    tf.keras.layers.Dense(hidden_layer_size, activation='relu'),\n",
        "    tf.keras.layers.Dense(hidden_layer_size, activation='relu'),\n",
        "    tf.keras.layers.Dense(output_size, activation='softmax'), #as we want a probablity b/w 0 to 1\n",
        "])\n",
        "model.compile(optimizer='adam', loss='sparse_categorical_crossentropy', metrics=['accuracy'])\n",
        "batch_size=100\n",
        "max_epochs=100\n",
        "early_stopping= tf.keras.callbacks.EarlyStopping(patience=2)\n",
        "model.fit(train_inputs, train_targets, batch_size=batch_size, epochs=max_epochs, callbacks=early_stopping, validation_data=(validation_inputs, validation_targets), verbose=2)\n"
      ],
      "metadata": {
        "colab": {
          "base_uri": "https://localhost:8080/"
        },
        "id": "ZtrkHeCXeTnC",
        "outputId": "948decda-edac-4b5b-fcf0-031ee5947e45"
      },
      "execution_count": null,
      "outputs": [
        {
          "output_type": "stream",
          "name": "stdout",
          "text": [
            "Epoch 1/100\n",
            "36/36 - 1s - loss: 0.5467 - accuracy: 0.7181 - val_loss: 0.4461 - val_accuracy: 0.7875 - 1s/epoch - 32ms/step\n",
            "Epoch 2/100\n",
            "36/36 - 0s - loss: 0.4136 - accuracy: 0.7726 - val_loss: 0.3993 - val_accuracy: 0.7919 - 199ms/epoch - 6ms/step\n",
            "Epoch 3/100\n",
            "36/36 - 0s - loss: 0.3798 - accuracy: 0.7932 - val_loss: 0.3901 - val_accuracy: 0.7785 - 162ms/epoch - 5ms/step\n",
            "Epoch 4/100\n",
            "36/36 - 0s - loss: 0.3638 - accuracy: 0.8108 - val_loss: 0.3723 - val_accuracy: 0.7919 - 164ms/epoch - 5ms/step\n",
            "Epoch 5/100\n",
            "36/36 - 0s - loss: 0.3544 - accuracy: 0.8097 - val_loss: 0.3672 - val_accuracy: 0.7852 - 162ms/epoch - 4ms/step\n",
            "Epoch 6/100\n",
            "36/36 - 0s - loss: 0.3456 - accuracy: 0.8148 - val_loss: 0.3569 - val_accuracy: 0.8098 - 162ms/epoch - 4ms/step\n",
            "Epoch 7/100\n",
            "36/36 - 0s - loss: 0.3431 - accuracy: 0.8184 - val_loss: 0.3665 - val_accuracy: 0.7987 - 201ms/epoch - 6ms/step\n",
            "Epoch 8/100\n",
            "36/36 - 0s - loss: 0.3445 - accuracy: 0.8083 - val_loss: 0.3698 - val_accuracy: 0.7942 - 176ms/epoch - 5ms/step\n"
          ]
        },
        {
          "output_type": "execute_result",
          "data": {
            "text/plain": [
              "<keras.src.callbacks.History at 0x7ac300e82b60>"
            ]
          },
          "metadata": {},
          "execution_count": 54
        }
      ]
    },
    {
      "cell_type": "markdown",
      "source": [
        "**Test the model**"
      ],
      "metadata": {
        "id": "Owd1hkpglpyT"
      }
    },
    {
      "cell_type": "code",
      "source": [
        "test_loss, test_accuracy=model.evaluate(test_inputs, test_targets)"
      ],
      "metadata": {
        "colab": {
          "base_uri": "https://localhost:8080/"
        },
        "id": "3Z5n6H_9lsQ0",
        "outputId": "4dbe0b7f-2426-499c-877e-5d21e38ae594"
      },
      "execution_count": null,
      "outputs": [
        {
          "output_type": "stream",
          "name": "stdout",
          "text": [
            "14/14 [==============================] - 0s 2ms/step - loss: 0.3409 - accuracy: 0.8166\n"
          ]
        }
      ]
    },
    {
      "cell_type": "code",
      "source": [
        "print('\\nTest loss: {0:.2f}, Test accuracy: {1:.2f}%'.format(test_loss, test_accuracy*100,))"
      ],
      "metadata": {
        "colab": {
          "base_uri": "https://localhost:8080/"
        },
        "id": "h4DhvyG9l31h",
        "outputId": "c397b038-2ccd-484f-9982-50338a9b7a71"
      },
      "execution_count": null,
      "outputs": [
        {
          "output_type": "stream",
          "name": "stdout",
          "text": [
            "\n",
            "Test loss: 0.34, Test accuracy: 81.66%\n"
          ]
        }
      ]
    }
  ]
}